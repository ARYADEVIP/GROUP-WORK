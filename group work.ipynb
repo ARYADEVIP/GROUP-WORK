{
 "cells": [
  {
   "cell_type": "markdown",
   "id": "bc4a1d7c",
   "metadata": {},
   "source": [
    "# Break out room 5"
   ]
  },
  {
   "cell_type": "markdown",
   "id": "c5123ef6",
   "metadata": {},
   "source": [
    "LINI,APARNA GOPAL,IRFANA ISMATH, ARYADEVI"
   ]
  },
  {
   "cell_type": "code",
   "execution_count": 1,
   "id": "f166d69e",
   "metadata": {},
   "outputs": [],
   "source": [
    "import numpy as np\n",
    "import pandas as pd\n",
    "import matplotlib.pyplot as plt\n",
    "import seaborn as sns"
   ]
  },
  {
   "cell_type": "code",
   "execution_count": 2,
   "id": "02dbd67c",
   "metadata": {},
   "outputs": [],
   "source": [
    "data=pd.read_excel(r'C:\\Users\\DELL\\Documents\\E-commerce.xlsx')"
   ]
  },
  {
   "cell_type": "code",
   "execution_count": 3,
   "id": "eadd596c",
   "metadata": {},
   "outputs": [
    {
     "data": {
      "text/html": [
       "<div>\n",
       "<style scoped>\n",
       "    .dataframe tbody tr th:only-of-type {\n",
       "        vertical-align: middle;\n",
       "    }\n",
       "\n",
       "    .dataframe tbody tr th {\n",
       "        vertical-align: top;\n",
       "    }\n",
       "\n",
       "    .dataframe thead th {\n",
       "        text-align: right;\n",
       "    }\n",
       "</style>\n",
       "<table border=\"1\" class=\"dataframe\">\n",
       "  <thead>\n",
       "    <tr style=\"text-align: right;\">\n",
       "      <th></th>\n",
       "      <th>server_time</th>\n",
       "      <th>device_type</th>\n",
       "      <th>user_id</th>\n",
       "      <th>session_id</th>\n",
       "      <th>item_id</th>\n",
       "      <th>item_price</th>\n",
       "      <th>category</th>\n",
       "      <th>product_type</th>\n",
       "      <th>impression_time</th>\n",
       "      <th>app_code</th>\n",
       "      <th>os_version</th>\n",
       "      <th>is_4G</th>\n",
       "      <th>is_click</th>\n",
       "    </tr>\n",
       "  </thead>\n",
       "  <tbody>\n",
       "    <tr>\n",
       "      <th>0</th>\n",
       "      <td>2018-10-18 14:27:00</td>\n",
       "      <td>android</td>\n",
       "      <td>87862.0</td>\n",
       "      <td>268465.0</td>\n",
       "      <td>44459.0</td>\n",
       "      <td>4602.0</td>\n",
       "      <td>11.0</td>\n",
       "      <td>3040.0</td>\n",
       "      <td>2018-11-15 00:00:00</td>\n",
       "      <td>422.0</td>\n",
       "      <td>old</td>\n",
       "      <td>0</td>\n",
       "      <td>0</td>\n",
       "    </tr>\n",
       "    <tr>\n",
       "      <th>1</th>\n",
       "      <td>2018-10-18 14:27:00</td>\n",
       "      <td>android</td>\n",
       "      <td>63410.0</td>\n",
       "      <td>268465.0</td>\n",
       "      <td>44459.0</td>\n",
       "      <td>3513.0</td>\n",
       "      <td>12.0</td>\n",
       "      <td>6822.0</td>\n",
       "      <td>2018-11-15 00:01:00</td>\n",
       "      <td>467.0</td>\n",
       "      <td>latest</td>\n",
       "      <td>1</td>\n",
       "      <td>1</td>\n",
       "    </tr>\n",
       "    <tr>\n",
       "      <th>2</th>\n",
       "      <td>2018-10-18 14:43:00</td>\n",
       "      <td>android</td>\n",
       "      <td>71748.0</td>\n",
       "      <td>268465.0</td>\n",
       "      <td>44459.0</td>\n",
       "      <td>825.0</td>\n",
       "      <td>17.0</td>\n",
       "      <td>1619.0</td>\n",
       "      <td>2018-11-15 00:02:00</td>\n",
       "      <td>259.0</td>\n",
       "      <td>intermediate</td>\n",
       "      <td>1</td>\n",
       "      <td>0</td>\n",
       "    </tr>\n",
       "    <tr>\n",
       "      <th>3</th>\n",
       "      <td>2018-10-18 14:46:00</td>\n",
       "      <td>android</td>\n",
       "      <td>69209.0</td>\n",
       "      <td>268465.0</td>\n",
       "      <td>44459.0</td>\n",
       "      <td>2355.0</td>\n",
       "      <td>13.0</td>\n",
       "      <td>5264.0</td>\n",
       "      <td>2018-11-15 00:02:00</td>\n",
       "      <td>244.0</td>\n",
       "      <td>latest</td>\n",
       "      <td>1</td>\n",
       "      <td>0</td>\n",
       "    </tr>\n",
       "    <tr>\n",
       "      <th>4</th>\n",
       "      <td>2018-10-18 14:46:00</td>\n",
       "      <td>android</td>\n",
       "      <td>62873.0</td>\n",
       "      <td>268465.0</td>\n",
       "      <td>44459.0</td>\n",
       "      <td>1267.0</td>\n",
       "      <td>17.0</td>\n",
       "      <td>10239.0</td>\n",
       "      <td>2018-11-15 00:02:00</td>\n",
       "      <td>473.0</td>\n",
       "      <td>latest</td>\n",
       "      <td>0</td>\n",
       "      <td>0</td>\n",
       "    </tr>\n",
       "  </tbody>\n",
       "</table>\n",
       "</div>"
      ],
      "text/plain": [
       "          server_time device_type  user_id  session_id  item_id  item_price  \\\n",
       "0 2018-10-18 14:27:00     android  87862.0    268465.0  44459.0      4602.0   \n",
       "1 2018-10-18 14:27:00     android  63410.0    268465.0  44459.0      3513.0   \n",
       "2 2018-10-18 14:43:00     android  71748.0    268465.0  44459.0       825.0   \n",
       "3 2018-10-18 14:46:00     android  69209.0    268465.0  44459.0      2355.0   \n",
       "4 2018-10-18 14:46:00     android  62873.0    268465.0  44459.0      1267.0   \n",
       "\n",
       "   category  product_type     impression_time  app_code    os_version  is_4G  \\\n",
       "0      11.0        3040.0 2018-11-15 00:00:00     422.0           old      0   \n",
       "1      12.0        6822.0 2018-11-15 00:01:00     467.0        latest      1   \n",
       "2      17.0        1619.0 2018-11-15 00:02:00     259.0  intermediate      1   \n",
       "3      13.0        5264.0 2018-11-15 00:02:00     244.0        latest      1   \n",
       "4      17.0       10239.0 2018-11-15 00:02:00     473.0        latest      0   \n",
       "\n",
       "   is_click  \n",
       "0         0  \n",
       "1         1  \n",
       "2         0  \n",
       "3         0  \n",
       "4         0  "
      ]
     },
     "execution_count": 3,
     "metadata": {},
     "output_type": "execute_result"
    }
   ],
   "source": [
    "data.head()"
   ]
  },
  {
   "cell_type": "code",
   "execution_count": 23,
   "id": "07a6839d",
   "metadata": {},
   "outputs": [
    {
     "data": {
      "text/plain": [
       "(2025, 13)"
      ]
     },
     "execution_count": 23,
     "metadata": {},
     "output_type": "execute_result"
    }
   ],
   "source": [
    "data.shape"
   ]
  },
  {
   "cell_type": "code",
   "execution_count": 24,
   "id": "b3bc4ff6",
   "metadata": {},
   "outputs": [
    {
     "data": {
      "text/html": [
       "<div>\n",
       "<style scoped>\n",
       "    .dataframe tbody tr th:only-of-type {\n",
       "        vertical-align: middle;\n",
       "    }\n",
       "\n",
       "    .dataframe tbody tr th {\n",
       "        vertical-align: top;\n",
       "    }\n",
       "\n",
       "    .dataframe thead th {\n",
       "        text-align: right;\n",
       "    }\n",
       "</style>\n",
       "<table border=\"1\" class=\"dataframe\">\n",
       "  <thead>\n",
       "    <tr style=\"text-align: right;\">\n",
       "      <th></th>\n",
       "      <th>device_type</th>\n",
       "      <th>user_id</th>\n",
       "      <th>session_id</th>\n",
       "      <th>item_id</th>\n",
       "      <th>item_price</th>\n",
       "      <th>category</th>\n",
       "      <th>product_type</th>\n",
       "      <th>app_code</th>\n",
       "      <th>is_4G</th>\n",
       "      <th>is_click</th>\n",
       "    </tr>\n",
       "  </thead>\n",
       "  <tbody>\n",
       "    <tr>\n",
       "      <th>count</th>\n",
       "      <td>2025.0</td>\n",
       "      <td>2025.000000</td>\n",
       "      <td>2.025000e+03</td>\n",
       "      <td>2025.000000</td>\n",
       "      <td>2025.000000</td>\n",
       "      <td>2025.000000</td>\n",
       "      <td>2025.000000</td>\n",
       "      <td>2025.000000</td>\n",
       "      <td>2025.000000</td>\n",
       "      <td>2025.000000</td>\n",
       "    </tr>\n",
       "    <tr>\n",
       "      <th>mean</th>\n",
       "      <td>0.0</td>\n",
       "      <td>46713.770864</td>\n",
       "      <td>5.473708e+05</td>\n",
       "      <td>63504.553086</td>\n",
       "      <td>6659.023210</td>\n",
       "      <td>10.292840</td>\n",
       "      <td>5359.605185</td>\n",
       "      <td>244.722469</td>\n",
       "      <td>0.342222</td>\n",
       "      <td>0.049877</td>\n",
       "    </tr>\n",
       "    <tr>\n",
       "      <th>std</th>\n",
       "      <td>0.0</td>\n",
       "      <td>26382.031253</td>\n",
       "      <td>3.107852e+05</td>\n",
       "      <td>36811.981094</td>\n",
       "      <td>17292.355762</td>\n",
       "      <td>4.954304</td>\n",
       "      <td>3075.354286</td>\n",
       "      <td>124.449722</td>\n",
       "      <td>0.474571</td>\n",
       "      <td>0.217744</td>\n",
       "    </tr>\n",
       "    <tr>\n",
       "      <th>min</th>\n",
       "      <td>0.0</td>\n",
       "      <td>10.000000</td>\n",
       "      <td>1.694000e+03</td>\n",
       "      <td>176.000000</td>\n",
       "      <td>16.000000</td>\n",
       "      <td>0.000000</td>\n",
       "      <td>6.000000</td>\n",
       "      <td>1.000000</td>\n",
       "      <td>0.000000</td>\n",
       "      <td>0.000000</td>\n",
       "    </tr>\n",
       "    <tr>\n",
       "      <th>25%</th>\n",
       "      <td>0.0</td>\n",
       "      <td>24853.000000</td>\n",
       "      <td>2.738070e+05</td>\n",
       "      <td>33864.000000</td>\n",
       "      <td>1465.000000</td>\n",
       "      <td>7.000000</td>\n",
       "      <td>2765.000000</td>\n",
       "      <td>190.000000</td>\n",
       "      <td>0.000000</td>\n",
       "      <td>0.000000</td>\n",
       "    </tr>\n",
       "    <tr>\n",
       "      <th>50%</th>\n",
       "      <td>0.0</td>\n",
       "      <td>46248.000000</td>\n",
       "      <td>5.440370e+05</td>\n",
       "      <td>62896.000000</td>\n",
       "      <td>2425.000000</td>\n",
       "      <td>11.000000</td>\n",
       "      <td>5355.500000</td>\n",
       "      <td>207.000000</td>\n",
       "      <td>0.000000</td>\n",
       "      <td>0.000000</td>\n",
       "    </tr>\n",
       "    <tr>\n",
       "      <th>75%</th>\n",
       "      <td>0.0</td>\n",
       "      <td>69266.000000</td>\n",
       "      <td>7.992640e+05</td>\n",
       "      <td>91322.000000</td>\n",
       "      <td>4793.000000</td>\n",
       "      <td>14.000000</td>\n",
       "      <td>8121.000000</td>\n",
       "      <td>371.000000</td>\n",
       "      <td>1.000000</td>\n",
       "      <td>0.000000</td>\n",
       "    </tr>\n",
       "    <tr>\n",
       "      <th>max</th>\n",
       "      <td>0.0</td>\n",
       "      <td>92508.000000</td>\n",
       "      <td>1.089219e+06</td>\n",
       "      <td>132865.000000</td>\n",
       "      <td>239360.000000</td>\n",
       "      <td>17.000000</td>\n",
       "      <td>10573.000000</td>\n",
       "      <td>508.000000</td>\n",
       "      <td>1.000000</td>\n",
       "      <td>1.000000</td>\n",
       "    </tr>\n",
       "  </tbody>\n",
       "</table>\n",
       "</div>"
      ],
      "text/plain": [
       "       device_type       user_id    session_id        item_id     item_price  \\\n",
       "count       2025.0   2025.000000  2.025000e+03    2025.000000    2025.000000   \n",
       "mean           0.0  46713.770864  5.473708e+05   63504.553086    6659.023210   \n",
       "std            0.0  26382.031253  3.107852e+05   36811.981094   17292.355762   \n",
       "min            0.0     10.000000  1.694000e+03     176.000000      16.000000   \n",
       "25%            0.0  24853.000000  2.738070e+05   33864.000000    1465.000000   \n",
       "50%            0.0  46248.000000  5.440370e+05   62896.000000    2425.000000   \n",
       "75%            0.0  69266.000000  7.992640e+05   91322.000000    4793.000000   \n",
       "max            0.0  92508.000000  1.089219e+06  132865.000000  239360.000000   \n",
       "\n",
       "          category  product_type     app_code        is_4G     is_click  \n",
       "count  2025.000000   2025.000000  2025.000000  2025.000000  2025.000000  \n",
       "mean     10.292840   5359.605185   244.722469     0.342222     0.049877  \n",
       "std       4.954304   3075.354286   124.449722     0.474571     0.217744  \n",
       "min       0.000000      6.000000     1.000000     0.000000     0.000000  \n",
       "25%       7.000000   2765.000000   190.000000     0.000000     0.000000  \n",
       "50%      11.000000   5355.500000   207.000000     0.000000     0.000000  \n",
       "75%      14.000000   8121.000000   371.000000     1.000000     0.000000  \n",
       "max      17.000000  10573.000000   508.000000     1.000000     1.000000  "
      ]
     },
     "execution_count": 24,
     "metadata": {},
     "output_type": "execute_result"
    }
   ],
   "source": [
    "data.describe()"
   ]
  },
  {
   "cell_type": "code",
   "execution_count": 25,
   "id": "4e3f1e22",
   "metadata": {},
   "outputs": [
    {
     "data": {
      "text/plain": [
       "server_time        0\n",
       "device_type        0\n",
       "user_id            0\n",
       "session_id         0\n",
       "item_id            0\n",
       "item_price         0\n",
       "category           0\n",
       "product_type       0\n",
       "impression_time    0\n",
       "app_code           0\n",
       "os_version         9\n",
       "is_4G              0\n",
       "is_click           0\n",
       "dtype: int64"
      ]
     },
     "execution_count": 25,
     "metadata": {},
     "output_type": "execute_result"
    }
   ],
   "source": [
    "data.isna().sum()"
   ]
  },
  {
   "cell_type": "code",
   "execution_count": 26,
   "id": "1a0df748",
   "metadata": {},
   "outputs": [
    {
     "data": {
      "text/plain": [
       "(2025, 13)"
      ]
     },
     "execution_count": 26,
     "metadata": {},
     "output_type": "execute_result"
    }
   ],
   "source": [
    "data.shape"
   ]
  },
  {
   "cell_type": "code",
   "execution_count": 65,
   "id": "18488745",
   "metadata": {},
   "outputs": [
    {
     "data": {
      "image/png": "[encoded data removed]",
      "text/plain": [
       "<Figure size 2000x1500 with 12 Axes>"
      ]
     },
     "metadata": {},
     "output_type": "display_data"
    }
   ],
   "source": [
    "freqgraph=data.select_dtypes(include=['float','int','object'])\n",
    "freqgraph.hist(figsize=(20,15))\n",
    "plt.show()"
   ]
  },
  {
   "cell_type": "code",
   "execution_count": 28,
   "id": "94496f10",
   "metadata": {},
   "outputs": [
    {
     "data": {
      "text/plain": [
       "Index(['server_time', 'device_type', 'user_id', 'session_id', 'item_id',\n",
       "       'item_price', 'category', 'product_type', 'impression_time', 'app_code',\n",
       "       'os_version', 'is_4G', 'is_click'],\n",
       "      dtype='object')"
      ]
     },
     "execution_count": 28,
     "metadata": {},
     "output_type": "execute_result"
    }
   ],
   "source": [
    "data.columns"
   ]
  },
  {
   "cell_type": "code",
   "execution_count": 29,
   "id": "1f168ccb",
   "metadata": {},
   "outputs": [],
   "source": [
    "for col in['user_id', 'session_id', 'item_id','item_price', 'category', 'product_type','app_code']:\n",
    "    data[col]=data[col].fillna(data[col].median())"
   ]
  },
  {
   "cell_type": "code",
   "execution_count": 30,
   "id": "cb3ceb3c",
   "metadata": {},
   "outputs": [],
   "source": [
    "data['os_version']=data['os_version'].fillna(data['os_version'].mode().iloc[0])"
   ]
  },
  {
   "cell_type": "code",
   "execution_count": 31,
   "id": "d9f0269b",
   "metadata": {},
   "outputs": [
    {
     "data": {
      "text/plain": [
       "server_time        0\n",
       "device_type        0\n",
       "user_id            0\n",
       "session_id         0\n",
       "item_id            0\n",
       "item_price         0\n",
       "category           0\n",
       "product_type       0\n",
       "impression_time    0\n",
       "app_code           0\n",
       "os_version         0\n",
       "is_4G              0\n",
       "is_click           0\n",
       "dtype: int64"
      ]
     },
     "execution_count": 31,
     "metadata": {},
     "output_type": "execute_result"
    }
   ],
   "source": [
    "data.isna().sum()"
   ]
  },
  {
   "cell_type": "markdown",
   "id": "6e2bd0c2",
   "metadata": {},
   "source": [
    "outlier handling"
   ]
  },
  {
   "cell_type": "code",
   "execution_count": 32,
   "id": "25d1bf42",
   "metadata": {},
   "outputs": [],
   "source": [
    "n_cols=['user_id', 'session_id', 'item_id',\n",
    "       'item_price', 'category', 'product_type', 'app_code','is_4G', 'is_click']"
   ]
  },
  {
   "cell_type": "code",
   "execution_count": 33,
   "id": "1e84cc1e",
   "metadata": {},
   "outputs": [
    {
     "data": {
      "image/png": "[encoded data removed]",
      "text/plain": [
       "<Figure size 640x480 with 1 Axes>"
      ]
     },
     "metadata": {},
     "output_type": "display_data"
    },
    {
     "data": {
      "image/png": "[encoded data removed]",
      "text/plain": [
       "<Figure size 640x480 with 1 Axes>"
      ]
     },
     "metadata": {},
     "output_type": "display_data"
    },
    {
     "data": {
      "image/png": "[encoded data removed]",
      "text/plain": [
       "<Figure size 640x480 with 1 Axes>"
      ]
     },
     "metadata": {},
     "output_type": "display_data"
    },
    {
     "data": {
      "image/png": "[encoded data removed]",
      "text/plain": [
       "<Figure size 640x480 with 1 Axes>"
      ]
     },
     "metadata": {},
     "output_type": "display_data"
    },
    {
     "data": {
      "image/png": "[encoded data removed]",
      "text/plain": [
       "<Figure size 640x480 with 1 Axes>"
      ]
     },
     "metadata": {},
     "output_type": "display_data"
    },
    {
     "data": {
      "image/png": "[encoded data removed]",
      "text/plain": [
       "<Figure size 640x480 with 1 Axes>"
      ]
     },
     "metadata": {},
     "output_type": "display_data"
    },
    {
     "data": {
      "image/png": "[encoded data removed]",
      "text/plain": [
       "<Figure size 640x480 with 1 Axes>"
      ]
     },
     "metadata": {},
     "output_type": "display_data"
    },
    {
     "data": {
      "image/png": "[encoded data removed]",
      "text/plain": [
       "<Figure size 640x480 with 1 Axes>"
      ]
     },
     "metadata": {},
     "output_type": "display_data"
    },
    {
     "data": {
      "image/png": "[encoded data removed]",
      "text/plain": [
       "<Figure size 640x480 with 1 Axes>"
      ]
     },
     "metadata": {},
     "output_type": "display_data"
    }
   ],
   "source": [
    "for i in n_cols:\n",
    "    plt.figure()\n",
    "    plt.boxplot(data[i])\n",
    "    plt.title(i)"
   ]
  },
  {
   "cell_type": "code",
   "execution_count": 34,
   "id": "3f2c94b3",
   "metadata": {},
   "outputs": [
    {
     "name": "stderr",
     "output_type": "stream",
     "text": [
      "C:\\Users\\DELL\\AppData\\Local\\Temp\\ipykernel_14120\\3388736594.py:1: DeprecationWarning: the `interpolation=` argument to percentile was renamed to `method=`, which has additional options.\n",
      "Users of the modes 'nearest', 'lower', 'higher', or 'midpoint' are encouraged to review the method they used. (Deprecated NumPy 1.22)\n",
      "  Q1=np.percentile(data['item_price'],25,interpolation='midpoint')\n",
      "C:\\Users\\DELL\\AppData\\Local\\Temp\\ipykernel_14120\\3388736594.py:2: DeprecationWarning: the `interpolation=` argument to percentile was renamed to `method=`, which has additional options.\n",
      "Users of the modes 'nearest', 'lower', 'higher', or 'midpoint' are encouraged to review the method they used. (Deprecated NumPy 1.22)\n",
      "  Q2=np.percentile(data['item_price'],50,interpolation='midpoint')\n",
      "C:\\Users\\DELL\\AppData\\Local\\Temp\\ipykernel_14120\\3388736594.py:3: DeprecationWarning: the `interpolation=` argument to percentile was renamed to `method=`, which has additional options.\n",
      "Users of the modes 'nearest', 'lower', 'higher', or 'midpoint' are encouraged to review the method they used. (Deprecated NumPy 1.22)\n",
      "  Q3=np.percentile(data['item_price'],75,interpolation='midpoint')\n"
     ]
    }
   ],
   "source": [
    "Q1=np.percentile(data['item_price'],25,interpolation='midpoint')\n",
    "Q2=np.percentile(data['item_price'],50,interpolation='midpoint')\n",
    "Q3=np.percentile(data['item_price'],75,interpolation='midpoint')"
   ]
  },
  {
   "cell_type": "code",
   "execution_count": 35,
   "id": "7e1595ec",
   "metadata": {},
   "outputs": [
    {
     "name": "stdout",
     "output_type": "stream",
     "text": [
      "1465.0\n",
      "2425.0\n",
      "4793.0\n"
     ]
    }
   ],
   "source": [
    "print(Q1)\n",
    "print(Q2)\n",
    "print(Q3)"
   ]
  },
  {
   "cell_type": "code",
   "execution_count": 36,
   "id": "92bb0b20",
   "metadata": {},
   "outputs": [
    {
     "data": {
      "text/plain": [
       "2425.0"
      ]
     },
     "execution_count": 36,
     "metadata": {},
     "output_type": "execute_result"
    }
   ],
   "source": [
    "data['item_price'].median()"
   ]
  },
  {
   "cell_type": "code",
   "execution_count": 37,
   "id": "aeacec1b",
   "metadata": {},
   "outputs": [],
   "source": [
    "IQR=Q3-Q1"
   ]
  },
  {
   "cell_type": "code",
   "execution_count": 38,
   "id": "927749e6",
   "metadata": {},
   "outputs": [
    {
     "name": "stdout",
     "output_type": "stream",
     "text": [
      "3328.0\n"
     ]
    }
   ],
   "source": [
    "print(IQR)"
   ]
  },
  {
   "cell_type": "code",
   "execution_count": 39,
   "id": "a1a998ce",
   "metadata": {},
   "outputs": [],
   "source": [
    "up_lim=Q3+1.5*IQR\n",
    "low_lim=Q1-1.5*IQR"
   ]
  },
  {
   "cell_type": "code",
   "execution_count": 40,
   "id": "67584a6f",
   "metadata": {},
   "outputs": [
    {
     "name": "stdout",
     "output_type": "stream",
     "text": [
      "9785.0\n",
      "-3527.0\n"
     ]
    }
   ],
   "source": [
    "print(up_lim)\n",
    "print(low_lim)"
   ]
  },
  {
   "cell_type": "code",
   "execution_count": 41,
   "id": "0f0e5583",
   "metadata": {},
   "outputs": [],
   "source": [
    "outliers=[]\n",
    "for x in data['item_price']:\n",
    "    if(x>up_lim) or (x<low_lim):\n",
    "        outliers.append(x) "
   ]
  },
  {
   "cell_type": "code",
   "execution_count": 42,
   "id": "f6b1a15f",
   "metadata": {},
   "outputs": [
    {
     "data": {
      "text/plain": [
       "[18118.0,\n",
       " 17856.0,\n",
       " 17222.0,\n",
       " 11462.0,\n",
       " 10246.0,\n",
       " 23040.0,\n",
       " 10822.0,\n",
       " 10816.0,\n",
       " 11712.0,\n",
       " 12221.0,\n",
       " 46656.0,\n",
       " 20492.0,\n",
       " 85760.0,\n",
       " 9990.0,\n",
       " 54336.0,\n",
       " 15296.0,\n",
       " 13984.0,\n",
       " 33984.0,\n",
       " 13420.0,\n",
       " 19526.0,\n",
       " 51136.0,\n",
       " 9959.0,\n",
       " 10758.0,\n",
       " 10886.0,\n",
       " 25472.0,\n",
       " 35136.0,\n",
       " 11404.0,\n",
       " 11456.0,\n",
       " 99507.0,\n",
       " 12280.0,\n",
       " 53625.0,\n",
       " 18668.0,\n",
       " 22208.0,\n",
       " 21409.0,\n",
       " 83776.0,\n",
       " 14906.0,\n",
       " 18557.0,\n",
       " 130154.0,\n",
       " 20416.0,\n",
       " 14080.0,\n",
       " 117849.0,\n",
       " 17222.0,\n",
       " 178099.0,\n",
       " 165665.0,\n",
       " 11369.0,\n",
       " 32576.0,\n",
       " 10240.0,\n",
       " 14016.0,\n",
       " 41369.0,\n",
       " 16416.0,\n",
       " 63936.0,\n",
       " 10087.0,\n",
       " 10310.0,\n",
       " 12096.0,\n",
       " 10298.0,\n",
       " 21120.0,\n",
       " 26956.0,\n",
       " 13000.0,\n",
       " 16960.0,\n",
       " 152652.0,\n",
       " 16128.0,\n",
       " 47936.0,\n",
       " 10039.0,\n",
       " 19008.0,\n",
       " 9792.0,\n",
       " 27545.0,\n",
       " 20160.0,\n",
       " 10310.0,\n",
       " 18278.0,\n",
       " 165665.0,\n",
       " 96768.0,\n",
       " 10816.0,\n",
       " 14656.0,\n",
       " 64000.0,\n",
       " 37916.0,\n",
       " 70336.0,\n",
       " 27400.0,\n",
       " 24969.0,\n",
       " 15808.0,\n",
       " 15296.0,\n",
       " 40256.0,\n",
       " 12672.0,\n",
       " 49016.0,\n",
       " 61056.0,\n",
       " 15968.0,\n",
       " 22348.0,\n",
       " 17665.0,\n",
       " 22912.0,\n",
       " 16265.0,\n",
       " 47360.0,\n",
       " 20428.0,\n",
       " 12736.0,\n",
       " 21248.0,\n",
       " 11392.0,\n",
       " 32808.0,\n",
       " 27443.0,\n",
       " 10771.0,\n",
       " 10944.0,\n",
       " 11008.0,\n",
       " 17664.0,\n",
       " 31040.0,\n",
       " 20416.0,\n",
       " 18346.0,\n",
       " 15232.0,\n",
       " 15936.0,\n",
       " 20505.0,\n",
       " 12793.0,\n",
       " 43968.0,\n",
       " 134122.0,\n",
       " 11136.0,\n",
       " 10586.0,\n",
       " 16704.0,\n",
       " 12608.0,\n",
       " 28108.0,\n",
       " 101760.0,\n",
       " 16416.0,\n",
       " 23360.0,\n",
       " 70336.0,\n",
       " 15296.0,\n",
       " 56256.0,\n",
       " 38336.0,\n",
       " 20672.0,\n",
       " 95172.0,\n",
       " 209825.0,\n",
       " 34150.0,\n",
       " 106624.0,\n",
       " 10240.0,\n",
       " 10176.0,\n",
       " 33299.0,\n",
       " 25459.0,\n",
       " 21811.0,\n",
       " 162462.0,\n",
       " 10112.0,\n",
       " 17318.0,\n",
       " 72320.0,\n",
       " 12885.0,\n",
       " 11456.0,\n",
       " 27091.0,\n",
       " 12038.0,\n",
       " 17006.0,\n",
       " 76160.0,\n",
       " 31936.0,\n",
       " 10176.0,\n",
       " 16704.0,\n",
       " 10310.0,\n",
       " 35004.0,\n",
       " 12729.0,\n",
       " 82624.0,\n",
       " 33728.0,\n",
       " 14976.0,\n",
       " 28224.0,\n",
       " 19219.0,\n",
       " 41088.0,\n",
       " 152320.0,\n",
       " 35136.0,\n",
       " 10137.0,\n",
       " 48064.0,\n",
       " 44736.0,\n",
       " 51206.0,\n",
       " 56473.0,\n",
       " 24364.0,\n",
       " 82963.0,\n",
       " 15296.0,\n",
       " 14656.0,\n",
       " 9792.0,\n",
       " 17792.0,\n",
       " 154944.0,\n",
       " 27417.0,\n",
       " 20160.0,\n",
       " 10064.0,\n",
       " 26144.0,\n",
       " 52147.0,\n",
       " 10499.0,\n",
       " 11456.0,\n",
       " 19756.0,\n",
       " 11052.0,\n",
       " 22924.0,\n",
       " 146304.0,\n",
       " 37114.0,\n",
       " 127360.0,\n",
       " 24710.0,\n",
       " 42058.0,\n",
       " 239360.0,\n",
       " 14841.0,\n",
       " 12153.0,\n",
       " 26176.0,\n",
       " 95328.0,\n",
       " 60928.0,\n",
       " 12185.0,\n",
       " 57873.0,\n",
       " 28736.0,\n",
       " 12032.0,\n",
       " 15232.0,\n",
       " 46038.0,\n",
       " 123488.0,\n",
       " 33875.0,\n",
       " 16576.0,\n",
       " 10064.0,\n",
       " 14342.0,\n",
       " 29651.0,\n",
       " 22336.0,\n",
       " 10736.0,\n",
       " 19008.0,\n",
       " 60928.0,\n",
       " 14656.0,\n",
       " 12672.0,\n",
       " 10886.0,\n",
       " 12092.0,\n",
       " 18284.0,\n",
       " 12992.0,\n",
       " 12096.0,\n",
       " 12373.0,\n",
       " 15296.0,\n",
       " 16320.0,\n",
       " 13248.0,\n",
       " 10246.0,\n",
       " 10310.0,\n",
       " 12928.0,\n",
       " 18777.0,\n",
       " 14144.0,\n",
       " 63288.0,\n",
       " 15449.0,\n",
       " 63948.0,\n",
       " 17856.0,\n",
       " 19776.0,\n",
       " 166355.0,\n",
       " 15721.0,\n",
       " 13132.0,\n",
       " 47488.0,\n",
       " 13975.0,\n",
       " 85248.0,\n",
       " 19136.0,\n",
       " 19136.0,\n",
       " 20291.0,\n",
       " 13491.0,\n",
       " 38336.0,\n",
       " 10758.0,\n",
       " 10240.0,\n",
       " 10310.0,\n",
       " 10800.0,\n",
       " 14400.0,\n",
       " 23372.0,\n",
       " 10886.0,\n",
       " 10252.0,\n",
       " 10246.0]"
      ]
     },
     "execution_count": 42,
     "metadata": {},
     "output_type": "execute_result"
    }
   ],
   "source": [
    "outliers"
   ]
  },
  {
   "cell_type": "code",
   "execution_count": 48,
   "id": "61cc4d21",
   "metadata": {},
   "outputs": [
    {
     "data": {
      "text/plain": [
       "[6,\n",
       " 7,\n",
       " 31,\n",
       " 34,\n",
       " 49,\n",
       " 51,\n",
       " 63,\n",
       " 68,\n",
       " 74,\n",
       " 86,\n",
       " 90,\n",
       " 107,\n",
       " 110,\n",
       " 113,\n",
       " 114,\n",
       " 122,\n",
       " 127,\n",
       " 138,\n",
       " 146,\n",
       " 161,\n",
       " 176,\n",
       " 179,\n",
       " 184,\n",
       " 191,\n",
       " 228,\n",
       " 242,\n",
       " 290,\n",
       " 294,\n",
       " 314,\n",
       " 325,\n",
       " 328,\n",
       " 352,\n",
       " 353,\n",
       " 368,\n",
       " 370,\n",
       " 386,\n",
       " 399,\n",
       " 419,\n",
       " 423,\n",
       " 428,\n",
       " 442,\n",
       " 447,\n",
       " 453,\n",
       " 458,\n",
       " 463,\n",
       " 464,\n",
       " 465,\n",
       " 467,\n",
       " 471,\n",
       " 472,\n",
       " 475,\n",
       " 478,\n",
       " 481,\n",
       " 493,\n",
       " 512,\n",
       " 538,\n",
       " 543,\n",
       " 561,\n",
       " 577,\n",
       " 581,\n",
       " 584,\n",
       " 595,\n",
       " 596,\n",
       " 598,\n",
       " 600,\n",
       " 603,\n",
       " 610,\n",
       " 639,\n",
       " 643,\n",
       " 644,\n",
       " 651,\n",
       " 663,\n",
       " 664,\n",
       " 669,\n",
       " 679,\n",
       " 688,\n",
       " 713,\n",
       " 715,\n",
       " 722,\n",
       " 726,\n",
       " 732,\n",
       " 736,\n",
       " 752,\n",
       " 767,\n",
       " 778,\n",
       " 800,\n",
       " 801,\n",
       " 840,\n",
       " 846,\n",
       " 849,\n",
       " 859,\n",
       " 865,\n",
       " 888,\n",
       " 900,\n",
       " 912,\n",
       " 925,\n",
       " 929,\n",
       " 942,\n",
       " 949,\n",
       " 953,\n",
       " 962,\n",
       " 970,\n",
       " 977,\n",
       " 984,\n",
       " 985,\n",
       " 992,\n",
       " 1000,\n",
       " 1013,\n",
       " 1024,\n",
       " 1025,\n",
       " 1033,\n",
       " 1035,\n",
       " 1037,\n",
       " 1057,\n",
       " 1060,\n",
       " 1063,\n",
       " 1065,\n",
       " 1106,\n",
       " 1113,\n",
       " 1121,\n",
       " 1132,\n",
       " 1140,\n",
       " 1146,\n",
       " 1151,\n",
       " 1157,\n",
       " 1166,\n",
       " 1168,\n",
       " 1182,\n",
       " 1198,\n",
       " 1199,\n",
       " 1204,\n",
       " 1206,\n",
       " 1213,\n",
       " 1238,\n",
       " 1248,\n",
       " 1257,\n",
       " 1264,\n",
       " 1267,\n",
       " 1272,\n",
       " 1278,\n",
       " 1281,\n",
       " 1298,\n",
       " 1305,\n",
       " 1320,\n",
       " 1325,\n",
       " 1327,\n",
       " 1329,\n",
       " 1342,\n",
       " 1359,\n",
       " 1373,\n",
       " 1374,\n",
       " 1376,\n",
       " 1386,\n",
       " 1387,\n",
       " 1393,\n",
       " 1396,\n",
       " 1419,\n",
       " 1424,\n",
       " 1426,\n",
       " 1432,\n",
       " 1445,\n",
       " 1446,\n",
       " 1451,\n",
       " 1455,\n",
       " 1460,\n",
       " 1487,\n",
       " 1488,\n",
       " 1490,\n",
       " 1503,\n",
       " 1511,\n",
       " 1520,\n",
       " 1529,\n",
       " 1535,\n",
       " 1542,\n",
       " 1551,\n",
       " 1556,\n",
       " 1560,\n",
       " 1572,\n",
       " 1580,\n",
       " 1584,\n",
       " 1585,\n",
       " 1586,\n",
       " 1592,\n",
       " 1594,\n",
       " 1599,\n",
       " 1606,\n",
       " 1613,\n",
       " 1632,\n",
       " 1636,\n",
       " 1641,\n",
       " 1644,\n",
       " 1646,\n",
       " 1661,\n",
       " 1670,\n",
       " 1673,\n",
       " 1678,\n",
       " 1695,\n",
       " 1697,\n",
       " 1699,\n",
       " 1709,\n",
       " 1722,\n",
       " 1723,\n",
       " 1724,\n",
       " 1726,\n",
       " 1741,\n",
       " 1743,\n",
       " 1746,\n",
       " 1756,\n",
       " 1769,\n",
       " 1780,\n",
       " 1789,\n",
       " 1790,\n",
       " 1803,\n",
       " 1804,\n",
       " 1805,\n",
       " 1808,\n",
       " 1810,\n",
       " 1813,\n",
       " 1827,\n",
       " 1829,\n",
       " 1832,\n",
       " 1837,\n",
       " 1856,\n",
       " 1857,\n",
       " 1858,\n",
       " 1860,\n",
       " 1861,\n",
       " 1865,\n",
       " 1866,\n",
       " 1868,\n",
       " 1869,\n",
       " 1877,\n",
       " 1879,\n",
       " 1882,\n",
       " 1885,\n",
       " 1933,\n",
       " 1937,\n",
       " 1948,\n",
       " 1953,\n",
       " 1961,\n",
       " 1978,\n",
       " 1981,\n",
       " 1983,\n",
       " 1998,\n",
       " 2012]"
      ]
     },
     "execution_count": 48,
     "metadata": {},
     "output_type": "execute_result"
    }
   ],
   "source": [
    "ind = data['item_price'] > up_lim\n",
    "index = data.loc[ind].index.tolist()\n",
    "index"
   ]
  },
  {
   "cell_type": "code",
   "execution_count": 49,
   "id": "abc4ebad",
   "metadata": {},
   "outputs": [],
   "source": [
    "data.drop(index, inplace = True)"
   ]
  },
  {
   "cell_type": "code",
   "execution_count": 50,
   "id": "bf636a1b",
   "metadata": {},
   "outputs": [
    {
     "data": {
      "text/plain": [
       "(1780, 13)"
      ]
     },
     "execution_count": 50,
     "metadata": {},
     "output_type": "execute_result"
    }
   ],
   "source": [
    "data.shape"
   ]
  },
  {
   "cell_type": "code",
   "execution_count": 51,
   "id": "0dae4d1f",
   "metadata": {},
   "outputs": [
    {
     "data": {
      "text/plain": [
       "1"
      ]
     },
     "execution_count": 51,
     "metadata": {},
     "output_type": "execute_result"
    }
   ],
   "source": [
    "data['device_type'].nunique()"
   ]
  },
  {
   "cell_type": "code",
   "execution_count": 52,
   "id": "fc5c40b3",
   "metadata": {},
   "outputs": [
    {
     "data": {
      "text/plain": [
       "3"
      ]
     },
     "execution_count": 52,
     "metadata": {},
     "output_type": "execute_result"
    }
   ],
   "source": [
    "data['os_version'].nunique()"
   ]
  },
  {
   "cell_type": "markdown",
   "id": "e95e3d69",
   "metadata": {},
   "source": [
    "One hot encoding"
   ]
  },
  {
   "cell_type": "code",
   "execution_count": 54,
   "id": "d9c47fe8",
   "metadata": {},
   "outputs": [],
   "source": [
    "data1 = pd.get_dummies(data)"
   ]
  },
  {
   "cell_type": "code",
   "execution_count": 55,
   "id": "a52f82d1",
   "metadata": {},
   "outputs": [
    {
     "data": {
      "text/plain": [
       "(1780, 15)"
      ]
     },
     "execution_count": 55,
     "metadata": {},
     "output_type": "execute_result"
    }
   ],
   "source": [
    "data1.shape"
   ]
  },
  {
   "cell_type": "code",
   "execution_count": 56,
   "id": "8952b2d9",
   "metadata": {},
   "outputs": [
    {
     "data": {
      "text/html": [
       "<div>\n",
       "<style scoped>\n",
       "    .dataframe tbody tr th:only-of-type {\n",
       "        vertical-align: middle;\n",
       "    }\n",
       "\n",
       "    .dataframe tbody tr th {\n",
       "        vertical-align: top;\n",
       "    }\n",
       "\n",
       "    .dataframe thead th {\n",
       "        text-align: right;\n",
       "    }\n",
       "</style>\n",
       "<table border=\"1\" class=\"dataframe\">\n",
       "  <thead>\n",
       "    <tr style=\"text-align: right;\">\n",
       "      <th></th>\n",
       "      <th>server_time</th>\n",
       "      <th>device_type</th>\n",
       "      <th>user_id</th>\n",
       "      <th>session_id</th>\n",
       "      <th>item_id</th>\n",
       "      <th>item_price</th>\n",
       "      <th>category</th>\n",
       "      <th>product_type</th>\n",
       "      <th>impression_time</th>\n",
       "      <th>app_code</th>\n",
       "      <th>is_4G</th>\n",
       "      <th>is_click</th>\n",
       "      <th>os_version_intermediate</th>\n",
       "      <th>os_version_latest</th>\n",
       "      <th>os_version_old</th>\n",
       "    </tr>\n",
       "  </thead>\n",
       "  <tbody>\n",
       "    <tr>\n",
       "      <th>0</th>\n",
       "      <td>2018-10-18 14:27:00</td>\n",
       "      <td>0</td>\n",
       "      <td>87862.0</td>\n",
       "      <td>268465.0</td>\n",
       "      <td>44459.0</td>\n",
       "      <td>4602.0</td>\n",
       "      <td>11.0</td>\n",
       "      <td>3040.0</td>\n",
       "      <td>2018-11-15 00:00:00</td>\n",
       "      <td>422.0</td>\n",
       "      <td>0</td>\n",
       "      <td>0</td>\n",
       "      <td>0</td>\n",
       "      <td>0</td>\n",
       "      <td>1</td>\n",
       "    </tr>\n",
       "    <tr>\n",
       "      <th>1</th>\n",
       "      <td>2018-10-18 14:27:00</td>\n",
       "      <td>0</td>\n",
       "      <td>63410.0</td>\n",
       "      <td>268465.0</td>\n",
       "      <td>44459.0</td>\n",
       "      <td>3513.0</td>\n",
       "      <td>12.0</td>\n",
       "      <td>6822.0</td>\n",
       "      <td>2018-11-15 00:01:00</td>\n",
       "      <td>467.0</td>\n",
       "      <td>1</td>\n",
       "      <td>1</td>\n",
       "      <td>0</td>\n",
       "      <td>1</td>\n",
       "      <td>0</td>\n",
       "    </tr>\n",
       "    <tr>\n",
       "      <th>2</th>\n",
       "      <td>2018-10-18 14:43:00</td>\n",
       "      <td>0</td>\n",
       "      <td>71748.0</td>\n",
       "      <td>268465.0</td>\n",
       "      <td>44459.0</td>\n",
       "      <td>825.0</td>\n",
       "      <td>17.0</td>\n",
       "      <td>1619.0</td>\n",
       "      <td>2018-11-15 00:02:00</td>\n",
       "      <td>259.0</td>\n",
       "      <td>1</td>\n",
       "      <td>0</td>\n",
       "      <td>1</td>\n",
       "      <td>0</td>\n",
       "      <td>0</td>\n",
       "    </tr>\n",
       "    <tr>\n",
       "      <th>3</th>\n",
       "      <td>2018-10-18 14:46:00</td>\n",
       "      <td>0</td>\n",
       "      <td>69209.0</td>\n",
       "      <td>268465.0</td>\n",
       "      <td>44459.0</td>\n",
       "      <td>2355.0</td>\n",
       "      <td>13.0</td>\n",
       "      <td>5264.0</td>\n",
       "      <td>2018-11-15 00:02:00</td>\n",
       "      <td>244.0</td>\n",
       "      <td>1</td>\n",
       "      <td>0</td>\n",
       "      <td>0</td>\n",
       "      <td>1</td>\n",
       "      <td>0</td>\n",
       "    </tr>\n",
       "    <tr>\n",
       "      <th>4</th>\n",
       "      <td>2018-10-18 14:46:00</td>\n",
       "      <td>0</td>\n",
       "      <td>62873.0</td>\n",
       "      <td>268465.0</td>\n",
       "      <td>44459.0</td>\n",
       "      <td>1267.0</td>\n",
       "      <td>17.0</td>\n",
       "      <td>10239.0</td>\n",
       "      <td>2018-11-15 00:02:00</td>\n",
       "      <td>473.0</td>\n",
       "      <td>0</td>\n",
       "      <td>0</td>\n",
       "      <td>0</td>\n",
       "      <td>1</td>\n",
       "      <td>0</td>\n",
       "    </tr>\n",
       "  </tbody>\n",
       "</table>\n",
       "</div>"
      ],
      "text/plain": [
       "          server_time  device_type  user_id  session_id  item_id  item_price  \\\n",
       "0 2018-10-18 14:27:00            0  87862.0    268465.0  44459.0      4602.0   \n",
       "1 2018-10-18 14:27:00            0  63410.0    268465.0  44459.0      3513.0   \n",
       "2 2018-10-18 14:43:00            0  71748.0    268465.0  44459.0       825.0   \n",
       "3 2018-10-18 14:46:00            0  69209.0    268465.0  44459.0      2355.0   \n",
       "4 2018-10-18 14:46:00            0  62873.0    268465.0  44459.0      1267.0   \n",
       "\n",
       "   category  product_type     impression_time  app_code  is_4G  is_click  \\\n",
       "0      11.0        3040.0 2018-11-15 00:00:00     422.0      0         0   \n",
       "1      12.0        6822.0 2018-11-15 00:01:00     467.0      1         1   \n",
       "2      17.0        1619.0 2018-11-15 00:02:00     259.0      1         0   \n",
       "3      13.0        5264.0 2018-11-15 00:02:00     244.0      1         0   \n",
       "4      17.0       10239.0 2018-11-15 00:02:00     473.0      0         0   \n",
       "\n",
       "   os_version_intermediate  os_version_latest  os_version_old  \n",
       "0                        0                  0               1  \n",
       "1                        0                  1               0  \n",
       "2                        1                  0               0  \n",
       "3                        0                  1               0  \n",
       "4                        0                  1               0  "
      ]
     },
     "execution_count": 56,
     "metadata": {},
     "output_type": "execute_result"
    }
   ],
   "source": [
    "data1.head()"
   ]
  },
  {
   "cell_type": "markdown",
   "id": "4232e364",
   "metadata": {},
   "source": [
    "label encoding"
   ]
  },
  {
   "cell_type": "code",
   "execution_count": 57,
   "id": "b42bbb09",
   "metadata": {},
   "outputs": [],
   "source": [
    "from sklearn.preprocessing import LabelEncoder"
   ]
  },
  {
   "cell_type": "code",
   "execution_count": 58,
   "id": "b5f39b90",
   "metadata": {},
   "outputs": [],
   "source": [
    "le = LabelEncoder()"
   ]
  },
  {
   "cell_type": "code",
   "execution_count": 59,
   "id": "c72f0022",
   "metadata": {},
   "outputs": [],
   "source": [
    "data2 = data"
   ]
  },
  {
   "cell_type": "code",
   "execution_count": 60,
   "id": "93e3c21e",
   "metadata": {},
   "outputs": [],
   "source": [
    "data2['os_version'] = le.fit_transform(data2['os_version'])"
   ]
  },
  {
   "cell_type": "code",
   "execution_count": 61,
   "id": "57c83ce6",
   "metadata": {},
   "outputs": [
    {
     "data": {
      "text/html": [
       "<div>\n",
       "<style scoped>\n",
       "    .dataframe tbody tr th:only-of-type {\n",
       "        vertical-align: middle;\n",
       "    }\n",
       "\n",
       "    .dataframe tbody tr th {\n",
       "        vertical-align: top;\n",
       "    }\n",
       "\n",
       "    .dataframe thead th {\n",
       "        text-align: right;\n",
       "    }\n",
       "</style>\n",
       "<table border=\"1\" class=\"dataframe\">\n",
       "  <thead>\n",
       "    <tr style=\"text-align: right;\">\n",
       "      <th></th>\n",
       "      <th>server_time</th>\n",
       "      <th>device_type</th>\n",
       "      <th>user_id</th>\n",
       "      <th>session_id</th>\n",
       "      <th>item_id</th>\n",
       "      <th>item_price</th>\n",
       "      <th>category</th>\n",
       "      <th>product_type</th>\n",
       "      <th>impression_time</th>\n",
       "      <th>app_code</th>\n",
       "      <th>os_version</th>\n",
       "      <th>is_4G</th>\n",
       "      <th>is_click</th>\n",
       "    </tr>\n",
       "  </thead>\n",
       "  <tbody>\n",
       "    <tr>\n",
       "      <th>0</th>\n",
       "      <td>2018-10-18 14:27:00</td>\n",
       "      <td>0</td>\n",
       "      <td>87862.0</td>\n",
       "      <td>268465.0</td>\n",
       "      <td>44459.0</td>\n",
       "      <td>4602.0</td>\n",
       "      <td>11.0</td>\n",
       "      <td>3040.0</td>\n",
       "      <td>2018-11-15 00:00:00</td>\n",
       "      <td>422.0</td>\n",
       "      <td>2</td>\n",
       "      <td>0</td>\n",
       "      <td>0</td>\n",
       "    </tr>\n",
       "    <tr>\n",
       "      <th>1</th>\n",
       "      <td>2018-10-18 14:27:00</td>\n",
       "      <td>0</td>\n",
       "      <td>63410.0</td>\n",
       "      <td>268465.0</td>\n",
       "      <td>44459.0</td>\n",
       "      <td>3513.0</td>\n",
       "      <td>12.0</td>\n",
       "      <td>6822.0</td>\n",
       "      <td>2018-11-15 00:01:00</td>\n",
       "      <td>467.0</td>\n",
       "      <td>1</td>\n",
       "      <td>1</td>\n",
       "      <td>1</td>\n",
       "    </tr>\n",
       "    <tr>\n",
       "      <th>2</th>\n",
       "      <td>2018-10-18 14:43:00</td>\n",
       "      <td>0</td>\n",
       "      <td>71748.0</td>\n",
       "      <td>268465.0</td>\n",
       "      <td>44459.0</td>\n",
       "      <td>825.0</td>\n",
       "      <td>17.0</td>\n",
       "      <td>1619.0</td>\n",
       "      <td>2018-11-15 00:02:00</td>\n",
       "      <td>259.0</td>\n",
       "      <td>0</td>\n",
       "      <td>1</td>\n",
       "      <td>0</td>\n",
       "    </tr>\n",
       "    <tr>\n",
       "      <th>3</th>\n",
       "      <td>2018-10-18 14:46:00</td>\n",
       "      <td>0</td>\n",
       "      <td>69209.0</td>\n",
       "      <td>268465.0</td>\n",
       "      <td>44459.0</td>\n",
       "      <td>2355.0</td>\n",
       "      <td>13.0</td>\n",
       "      <td>5264.0</td>\n",
       "      <td>2018-11-15 00:02:00</td>\n",
       "      <td>244.0</td>\n",
       "      <td>1</td>\n",
       "      <td>1</td>\n",
       "      <td>0</td>\n",
       "    </tr>\n",
       "    <tr>\n",
       "      <th>4</th>\n",
       "      <td>2018-10-18 14:46:00</td>\n",
       "      <td>0</td>\n",
       "      <td>62873.0</td>\n",
       "      <td>268465.0</td>\n",
       "      <td>44459.0</td>\n",
       "      <td>1267.0</td>\n",
       "      <td>17.0</td>\n",
       "      <td>10239.0</td>\n",
       "      <td>2018-11-15 00:02:00</td>\n",
       "      <td>473.0</td>\n",
       "      <td>1</td>\n",
       "      <td>0</td>\n",
       "      <td>0</td>\n",
       "    </tr>\n",
       "  </tbody>\n",
       "</table>\n",
       "</div>"
      ],
      "text/plain": [
       "          server_time  device_type  user_id  session_id  item_id  item_price  \\\n",
       "0 2018-10-18 14:27:00            0  87862.0    268465.0  44459.0      4602.0   \n",
       "1 2018-10-18 14:27:00            0  63410.0    268465.0  44459.0      3513.0   \n",
       "2 2018-10-18 14:43:00            0  71748.0    268465.0  44459.0       825.0   \n",
       "3 2018-10-18 14:46:00            0  69209.0    268465.0  44459.0      2355.0   \n",
       "4 2018-10-18 14:46:00            0  62873.0    268465.0  44459.0      1267.0   \n",
       "\n",
       "   category  product_type     impression_time  app_code  os_version  is_4G  \\\n",
       "0      11.0        3040.0 2018-11-15 00:00:00     422.0           2      0   \n",
       "1      12.0        6822.0 2018-11-15 00:01:00     467.0           1      1   \n",
       "2      17.0        1619.0 2018-11-15 00:02:00     259.0           0      1   \n",
       "3      13.0        5264.0 2018-11-15 00:02:00     244.0           1      1   \n",
       "4      17.0       10239.0 2018-11-15 00:02:00     473.0           1      0   \n",
       "\n",
       "   is_click  \n",
       "0         0  \n",
       "1         1  \n",
       "2         0  \n",
       "3         0  \n",
       "4         0  "
      ]
     },
     "execution_count": 61,
     "metadata": {},
     "output_type": "execute_result"
    }
   ],
   "source": [
    "data2.head()"
   ]
  },
  {
   "cell_type": "code",
   "execution_count": 62,
   "id": "5a87b8b1",
   "metadata": {},
   "outputs": [],
   "source": [
    "data2.drop('device_type', axis = 1, inplace = True)"
   ]
  },
  {
   "cell_type": "code",
   "execution_count": 63,
   "id": "6c1ea5e2",
   "metadata": {},
   "outputs": [
    {
     "data": {
      "text/html": [
       "<div>\n",
       "<style scoped>\n",
       "    .dataframe tbody tr th:only-of-type {\n",
       "        vertical-align: middle;\n",
       "    }\n",
       "\n",
       "    .dataframe tbody tr th {\n",
       "        vertical-align: top;\n",
       "    }\n",
       "\n",
       "    .dataframe thead th {\n",
       "        text-align: right;\n",
       "    }\n",
       "</style>\n",
       "<table border=\"1\" class=\"dataframe\">\n",
       "  <thead>\n",
       "    <tr style=\"text-align: right;\">\n",
       "      <th></th>\n",
       "      <th>server_time</th>\n",
       "      <th>user_id</th>\n",
       "      <th>session_id</th>\n",
       "      <th>item_id</th>\n",
       "      <th>item_price</th>\n",
       "      <th>category</th>\n",
       "      <th>product_type</th>\n",
       "      <th>impression_time</th>\n",
       "      <th>app_code</th>\n",
       "      <th>os_version</th>\n",
       "      <th>is_4G</th>\n",
       "      <th>is_click</th>\n",
       "    </tr>\n",
       "  </thead>\n",
       "  <tbody>\n",
       "    <tr>\n",
       "      <th>0</th>\n",
       "      <td>2018-10-18 14:27:00</td>\n",
       "      <td>87862.0</td>\n",
       "      <td>268465.0</td>\n",
       "      <td>44459.0</td>\n",
       "      <td>4602.0</td>\n",
       "      <td>11.0</td>\n",
       "      <td>3040.0</td>\n",
       "      <td>2018-11-15 00:00:00</td>\n",
       "      <td>422.0</td>\n",
       "      <td>2</td>\n",
       "      <td>0</td>\n",
       "      <td>0</td>\n",
       "    </tr>\n",
       "    <tr>\n",
       "      <th>1</th>\n",
       "      <td>2018-10-18 14:27:00</td>\n",
       "      <td>63410.0</td>\n",
       "      <td>268465.0</td>\n",
       "      <td>44459.0</td>\n",
       "      <td>3513.0</td>\n",
       "      <td>12.0</td>\n",
       "      <td>6822.0</td>\n",
       "      <td>2018-11-15 00:01:00</td>\n",
       "      <td>467.0</td>\n",
       "      <td>1</td>\n",
       "      <td>1</td>\n",
       "      <td>1</td>\n",
       "    </tr>\n",
       "    <tr>\n",
       "      <th>2</th>\n",
       "      <td>2018-10-18 14:43:00</td>\n",
       "      <td>71748.0</td>\n",
       "      <td>268465.0</td>\n",
       "      <td>44459.0</td>\n",
       "      <td>825.0</td>\n",
       "      <td>17.0</td>\n",
       "      <td>1619.0</td>\n",
       "      <td>2018-11-15 00:02:00</td>\n",
       "      <td>259.0</td>\n",
       "      <td>0</td>\n",
       "      <td>1</td>\n",
       "      <td>0</td>\n",
       "    </tr>\n",
       "    <tr>\n",
       "      <th>3</th>\n",
       "      <td>2018-10-18 14:46:00</td>\n",
       "      <td>69209.0</td>\n",
       "      <td>268465.0</td>\n",
       "      <td>44459.0</td>\n",
       "      <td>2355.0</td>\n",
       "      <td>13.0</td>\n",
       "      <td>5264.0</td>\n",
       "      <td>2018-11-15 00:02:00</td>\n",
       "      <td>244.0</td>\n",
       "      <td>1</td>\n",
       "      <td>1</td>\n",
       "      <td>0</td>\n",
       "    </tr>\n",
       "    <tr>\n",
       "      <th>4</th>\n",
       "      <td>2018-10-18 14:46:00</td>\n",
       "      <td>62873.0</td>\n",
       "      <td>268465.0</td>\n",
       "      <td>44459.0</td>\n",
       "      <td>1267.0</td>\n",
       "      <td>17.0</td>\n",
       "      <td>10239.0</td>\n",
       "      <td>2018-11-15 00:02:00</td>\n",
       "      <td>473.0</td>\n",
       "      <td>1</td>\n",
       "      <td>0</td>\n",
       "      <td>0</td>\n",
       "    </tr>\n",
       "  </tbody>\n",
       "</table>\n",
       "</div>"
      ],
      "text/plain": [
       "          server_time  user_id  session_id  item_id  item_price  category  \\\n",
       "0 2018-10-18 14:27:00  87862.0    268465.0  44459.0      4602.0      11.0   \n",
       "1 2018-10-18 14:27:00  63410.0    268465.0  44459.0      3513.0      12.0   \n",
       "2 2018-10-18 14:43:00  71748.0    268465.0  44459.0       825.0      17.0   \n",
       "3 2018-10-18 14:46:00  69209.0    268465.0  44459.0      2355.0      13.0   \n",
       "4 2018-10-18 14:46:00  62873.0    268465.0  44459.0      1267.0      17.0   \n",
       "\n",
       "   product_type     impression_time  app_code  os_version  is_4G  is_click  \n",
       "0        3040.0 2018-11-15 00:00:00     422.0           2      0         0  \n",
       "1        6822.0 2018-11-15 00:01:00     467.0           1      1         1  \n",
       "2        1619.0 2018-11-15 00:02:00     259.0           0      1         0  \n",
       "3        5264.0 2018-11-15 00:02:00     244.0           1      1         0  \n",
       "4       10239.0 2018-11-15 00:02:00     473.0           1      0         0  "
      ]
     },
     "execution_count": 63,
     "metadata": {},
     "output_type": "execute_result"
    }
   ],
   "source": [
    "data2.head()"
   ]
  },
  {
   "cell_type": "markdown",
   "id": "752794f3",
   "metadata": {},
   "source": [
    "min max scaling"
   ]
  },
  {
   "cell_type": "code",
   "execution_count": 66,
   "id": "8e4bdcf6",
   "metadata": {},
   "outputs": [],
   "source": [
    "from sklearn.preprocessing import MinMaxScaler"
   ]
  },
  {
   "cell_type": "code",
   "execution_count": 67,
   "id": "893106a6",
   "metadata": {},
   "outputs": [],
   "source": [
    "min_max = MinMaxScaler()"
   ]
  },
  {
   "cell_type": "code",
   "execution_count": 68,
   "id": "e6d3a597",
   "metadata": {},
   "outputs": [],
   "source": [
    "x = data[['item_price', 'category', 'product_type', 'app_code']]"
   ]
  },
  {
   "cell_type": "code",
   "execution_count": 69,
   "id": "24691f41",
   "metadata": {},
   "outputs": [
    {
     "data": {
      "text/html": [
       "<div>\n",
       "<style scoped>\n",
       "    .dataframe tbody tr th:only-of-type {\n",
       "        vertical-align: middle;\n",
       "    }\n",
       "\n",
       "    .dataframe tbody tr th {\n",
       "        vertical-align: top;\n",
       "    }\n",
       "\n",
       "    .dataframe thead th {\n",
       "        text-align: right;\n",
       "    }\n",
       "</style>\n",
       "<table border=\"1\" class=\"dataframe\">\n",
       "  <thead>\n",
       "    <tr style=\"text-align: right;\">\n",
       "      <th></th>\n",
       "      <th>item_price</th>\n",
       "      <th>category</th>\n",
       "      <th>product_type</th>\n",
       "      <th>app_code</th>\n",
       "    </tr>\n",
       "  </thead>\n",
       "  <tbody>\n",
       "    <tr>\n",
       "      <th>count</th>\n",
       "      <td>1780.000000</td>\n",
       "      <td>1780.000000</td>\n",
       "      <td>1780.000000</td>\n",
       "      <td>1780.000000</td>\n",
       "    </tr>\n",
       "    <tr>\n",
       "      <th>mean</th>\n",
       "      <td>2774.356180</td>\n",
       "      <td>10.260112</td>\n",
       "      <td>5367.814888</td>\n",
       "      <td>244.198876</td>\n",
       "    </tr>\n",
       "    <tr>\n",
       "      <th>std</th>\n",
       "      <td>2034.199606</td>\n",
       "      <td>4.840605</td>\n",
       "      <td>3077.228646</td>\n",
       "      <td>124.634935</td>\n",
       "    </tr>\n",
       "    <tr>\n",
       "      <th>min</th>\n",
       "      <td>16.000000</td>\n",
       "      <td>0.000000</td>\n",
       "      <td>8.000000</td>\n",
       "      <td>1.000000</td>\n",
       "    </tr>\n",
       "    <tr>\n",
       "      <th>25%</th>\n",
       "      <td>1273.000000</td>\n",
       "      <td>7.000000</td>\n",
       "      <td>2739.500000</td>\n",
       "      <td>190.000000</td>\n",
       "    </tr>\n",
       "    <tr>\n",
       "      <th>50%</th>\n",
       "      <td>2240.000000</td>\n",
       "      <td>11.000000</td>\n",
       "      <td>5403.000000</td>\n",
       "      <td>207.000000</td>\n",
       "    </tr>\n",
       "    <tr>\n",
       "      <th>75%</th>\n",
       "      <td>3713.250000</td>\n",
       "      <td>13.000000</td>\n",
       "      <td>8121.000000</td>\n",
       "      <td>371.000000</td>\n",
       "    </tr>\n",
       "    <tr>\n",
       "      <th>max</th>\n",
       "      <td>9780.000000</td>\n",
       "      <td>17.000000</td>\n",
       "      <td>10573.000000</td>\n",
       "      <td>508.000000</td>\n",
       "    </tr>\n",
       "  </tbody>\n",
       "</table>\n",
       "</div>"
      ],
      "text/plain": [
       "        item_price     category  product_type     app_code\n",
       "count  1780.000000  1780.000000   1780.000000  1780.000000\n",
       "mean   2774.356180    10.260112   5367.814888   244.198876\n",
       "std    2034.199606     4.840605   3077.228646   124.634935\n",
       "min      16.000000     0.000000      8.000000     1.000000\n",
       "25%    1273.000000     7.000000   2739.500000   190.000000\n",
       "50%    2240.000000    11.000000   5403.000000   207.000000\n",
       "75%    3713.250000    13.000000   8121.000000   371.000000\n",
       "max    9780.000000    17.000000  10573.000000   508.000000"
      ]
     },
     "execution_count": 69,
     "metadata": {},
     "output_type": "execute_result"
    }
   ],
   "source": [
    "x.describe()"
   ]
  },
  {
   "cell_type": "code",
   "execution_count": 71,
   "id": "549f58a5",
   "metadata": {},
   "outputs": [],
   "source": [
    "x1 = min_max.fit_transform(x)"
   ]
  },
  {
   "cell_type": "code",
   "execution_count": 72,
   "id": "f923bfd6",
   "metadata": {},
   "outputs": [],
   "source": [
    "x1 = pd.DataFrame(x1, columns = ['item_price', 'category', 'product_type', 'app_code'])"
   ]
  },
  {
   "cell_type": "code",
   "execution_count": 73,
   "id": "29bcc00d",
   "metadata": {},
   "outputs": [
    {
     "data": {
      "text/html": [
       "<div>\n",
       "<style scoped>\n",
       "    .dataframe tbody tr th:only-of-type {\n",
       "        vertical-align: middle;\n",
       "    }\n",
       "\n",
       "    .dataframe tbody tr th {\n",
       "        vertical-align: top;\n",
       "    }\n",
       "\n",
       "    .dataframe thead th {\n",
       "        text-align: right;\n",
       "    }\n",
       "</style>\n",
       "<table border=\"1\" class=\"dataframe\">\n",
       "  <thead>\n",
       "    <tr style=\"text-align: right;\">\n",
       "      <th></th>\n",
       "      <th>item_price</th>\n",
       "      <th>category</th>\n",
       "      <th>product_type</th>\n",
       "      <th>app_code</th>\n",
       "    </tr>\n",
       "  </thead>\n",
       "  <tbody>\n",
       "    <tr>\n",
       "      <th>count</th>\n",
       "      <td>1780.000000</td>\n",
       "      <td>1780.000000</td>\n",
       "      <td>1780.000000</td>\n",
       "      <td>1780.000000</td>\n",
       "    </tr>\n",
       "    <tr>\n",
       "      <th>mean</th>\n",
       "      <td>0.282503</td>\n",
       "      <td>0.603536</td>\n",
       "      <td>0.507318</td>\n",
       "      <td>0.479682</td>\n",
       "    </tr>\n",
       "    <tr>\n",
       "      <th>std</th>\n",
       "      <td>0.208337</td>\n",
       "      <td>0.284741</td>\n",
       "      <td>0.291266</td>\n",
       "      <td>0.245828</td>\n",
       "    </tr>\n",
       "    <tr>\n",
       "      <th>min</th>\n",
       "      <td>0.000000</td>\n",
       "      <td>0.000000</td>\n",
       "      <td>0.000000</td>\n",
       "      <td>0.000000</td>\n",
       "    </tr>\n",
       "    <tr>\n",
       "      <th>25%</th>\n",
       "      <td>0.128738</td>\n",
       "      <td>0.411765</td>\n",
       "      <td>0.258542</td>\n",
       "      <td>0.372781</td>\n",
       "    </tr>\n",
       "    <tr>\n",
       "      <th>50%</th>\n",
       "      <td>0.227776</td>\n",
       "      <td>0.647059</td>\n",
       "      <td>0.510648</td>\n",
       "      <td>0.406312</td>\n",
       "    </tr>\n",
       "    <tr>\n",
       "      <th>75%</th>\n",
       "      <td>0.378661</td>\n",
       "      <td>0.764706</td>\n",
       "      <td>0.767913</td>\n",
       "      <td>0.729783</td>\n",
       "    </tr>\n",
       "    <tr>\n",
       "      <th>max</th>\n",
       "      <td>1.000000</td>\n",
       "      <td>1.000000</td>\n",
       "      <td>1.000000</td>\n",
       "      <td>1.000000</td>\n",
       "    </tr>\n",
       "  </tbody>\n",
       "</table>\n",
       "</div>"
      ],
      "text/plain": [
       "        item_price     category  product_type     app_code\n",
       "count  1780.000000  1780.000000   1780.000000  1780.000000\n",
       "mean      0.282503     0.603536      0.507318     0.479682\n",
       "std       0.208337     0.284741      0.291266     0.245828\n",
       "min       0.000000     0.000000      0.000000     0.000000\n",
       "25%       0.128738     0.411765      0.258542     0.372781\n",
       "50%       0.227776     0.647059      0.510648     0.406312\n",
       "75%       0.378661     0.764706      0.767913     0.729783\n",
       "max       1.000000     1.000000      1.000000     1.000000"
      ]
     },
     "execution_count": 73,
     "metadata": {},
     "output_type": "execute_result"
    }
   ],
   "source": [
    "x1.describe()"
   ]
  },
  {
   "cell_type": "markdown",
   "id": "4b3f542a",
   "metadata": {},
   "source": [
    "Standard scaling"
   ]
  },
  {
   "cell_type": "code",
   "execution_count": 74,
   "id": "dcc30879",
   "metadata": {},
   "outputs": [],
   "source": [
    "from sklearn.preprocessing import StandardScaler"
   ]
  },
  {
   "cell_type": "code",
   "execution_count": 75,
   "id": "6f0adcf8",
   "metadata": {},
   "outputs": [],
   "source": [
    "std_scl = StandardScaler()"
   ]
  },
  {
   "cell_type": "code",
   "execution_count": 76,
   "id": "a3e23b46",
   "metadata": {},
   "outputs": [],
   "source": [
    "x2 = std_scl.fit_transform(x)"
   ]
  },
  {
   "cell_type": "code",
   "execution_count": 77,
   "id": "db0ea12c",
   "metadata": {},
   "outputs": [],
   "source": [
    "x2 = pd.DataFrame(x2, columns = ['item_price', 'category', 'product_type', 'app_code'])"
   ]
  },
  {
   "cell_type": "code",
   "execution_count": 78,
   "id": "29291d33",
   "metadata": {},
   "outputs": [
    {
     "data": {
      "text/html": [
       "<div>\n",
       "<style scoped>\n",
       "    .dataframe tbody tr th:only-of-type {\n",
       "        vertical-align: middle;\n",
       "    }\n",
       "\n",
       "    .dataframe tbody tr th {\n",
       "        vertical-align: top;\n",
       "    }\n",
       "\n",
       "    .dataframe thead th {\n",
       "        text-align: right;\n",
       "    }\n",
       "</style>\n",
       "<table border=\"1\" class=\"dataframe\">\n",
       "  <thead>\n",
       "    <tr style=\"text-align: right;\">\n",
       "      <th></th>\n",
       "      <th>item_price</th>\n",
       "      <th>category</th>\n",
       "      <th>product_type</th>\n",
       "      <th>app_code</th>\n",
       "    </tr>\n",
       "  </thead>\n",
       "  <tbody>\n",
       "    <tr>\n",
       "      <th>count</th>\n",
       "      <td>1780.000000</td>\n",
       "      <td>1.780000e+03</td>\n",
       "      <td>1.780000e+03</td>\n",
       "      <td>1.780000e+03</td>\n",
       "    </tr>\n",
       "    <tr>\n",
       "      <th>mean</th>\n",
       "      <td>0.000000</td>\n",
       "      <td>1.097749e-16</td>\n",
       "      <td>2.594679e-17</td>\n",
       "      <td>9.181170e-17</td>\n",
       "    </tr>\n",
       "    <tr>\n",
       "      <th>std</th>\n",
       "      <td>1.000281</td>\n",
       "      <td>1.000281e+00</td>\n",
       "      <td>1.000281e+00</td>\n",
       "      <td>1.000281e+00</td>\n",
       "    </tr>\n",
       "    <tr>\n",
       "      <th>min</th>\n",
       "      <td>-1.356372</td>\n",
       "      <td>-2.120188e+00</td>\n",
       "      <td>-1.742256e+00</td>\n",
       "      <td>-1.951838e+00</td>\n",
       "    </tr>\n",
       "    <tr>\n",
       "      <th>25%</th>\n",
       "      <td>-0.738265</td>\n",
       "      <td>-6.736820e-01</td>\n",
       "      <td>-8.543575e-01</td>\n",
       "      <td>-4.349832e-01</td>\n",
       "    </tr>\n",
       "    <tr>\n",
       "      <th>50%</th>\n",
       "      <td>-0.262760</td>\n",
       "      <td>1.528932e-01</td>\n",
       "      <td>1.143724e-02</td>\n",
       "      <td>-2.985465e-01</td>\n",
       "    </tr>\n",
       "    <tr>\n",
       "      <th>75%</th>\n",
       "      <td>0.461684</td>\n",
       "      <td>5.661808e-01</td>\n",
       "      <td>8.949477e-01</td>\n",
       "      <td>1.017666e+00</td>\n",
       "    </tr>\n",
       "    <tr>\n",
       "      <th>max</th>\n",
       "      <td>3.444899</td>\n",
       "      <td>1.392756e+00</td>\n",
       "      <td>1.691993e+00</td>\n",
       "      <td>2.117185e+00</td>\n",
       "    </tr>\n",
       "  </tbody>\n",
       "</table>\n",
       "</div>"
      ],
      "text/plain": [
       "        item_price      category  product_type      app_code\n",
       "count  1780.000000  1.780000e+03  1.780000e+03  1.780000e+03\n",
       "mean      0.000000  1.097749e-16  2.594679e-17  9.181170e-17\n",
       "std       1.000281  1.000281e+00  1.000281e+00  1.000281e+00\n",
       "min      -1.356372 -2.120188e+00 -1.742256e+00 -1.951838e+00\n",
       "25%      -0.738265 -6.736820e-01 -8.543575e-01 -4.349832e-01\n",
       "50%      -0.262760  1.528932e-01  1.143724e-02 -2.985465e-01\n",
       "75%       0.461684  5.661808e-01  8.949477e-01  1.017666e+00\n",
       "max       3.444899  1.392756e+00  1.691993e+00  2.117185e+00"
      ]
     },
     "execution_count": 78,
     "metadata": {},
     "output_type": "execute_result"
    }
   ],
   "source": [
    "x2.describe()"
   ]
  },
  {
   "cell_type": "code",
   "execution_count": null,
   "id": "3f212eff",
   "metadata": {},
   "outputs": [],
   "source": []
  }
 ],
 "metadata": {
  "kernelspec": {
   "display_name": "Python 3 (ipykernel)",
   "language": "python",
   "name": "python3"
  },
  "language_info": {
   "codemirror_mode": {
    "name": "ipython",
    "version": 3
   },
   "file_extension": ".py",
   "mimetype": "text/x-python",
   "name": "python",
   "nbconvert_exporter": "python",
   "pygments_lexer": "ipython3",
   "version": "3.10.9"
  }
 },
 "nbformat": 4,
 "nbformat_minor": 5
}
